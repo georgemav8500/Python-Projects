{
 "cells": [
  {
   "cell_type": "code",
   "execution_count": 1,
   "id": "275ba0be-4444-42ac-8294-53808742f858",
   "metadata": {},
   "outputs": [],
   "source": [
    "student = {\n",
    "    \"george\" : 5,\n",
    "    \"Nick\" : 6,\n",
    "    \"Mary\": 9,\n",
    "    \"John\": 10,\n",
    "    \"Bill\":9\n",
    "}"
   ]
  },
  {
   "cell_type": "code",
   "execution_count": 3,
   "id": "85864f91-c77e-45f1-962f-84ce15f51921",
   "metadata": {},
   "outputs": [],
   "source": [
    "student[\"george\"] = 7"
   ]
  },
  {
   "cell_type": "code",
   "execution_count": 5,
   "id": "48b8a687-261c-47f0-94fe-079b94796475",
   "metadata": {},
   "outputs": [],
   "source": [
    "student[\"lena\"] = 9"
   ]
  },
  {
   "cell_type": "code",
   "execution_count": 13,
   "id": "397710d7-1427-4153-8868-dcd21d5996bd",
   "metadata": {},
   "outputs": [
    {
     "name": "stdout",
     "output_type": "stream",
     "text": [
      "{1: 1, 2: 1, 3: 1, 4: 3, 5: 1, 6: 2, 10: 1}\n"
     ]
    }
   ],
   "source": [
    "numbers = [1,2,3,4,4,5,6,6,4,10]\n",
    "dict = {}\n",
    "for num in numbers:\n",
    "    dict[num] = numbers.count(num)\n",
    "print(dict)\n",
    "    "
   ]
  },
  {
   "cell_type": "code",
   "execution_count": 30,
   "id": "e4f26063-6460-48ba-921d-eeb59094a08a",
   "metadata": {},
   "outputs": [
    {
     "name": "stdout",
     "output_type": "stream",
     "text": [
      "{1: 1, 2: 1, 3: 1, 4: 3, 5: 1, 6: 2, 10: 1}\n"
     ]
    }
   ],
   "source": [
    "numbers = [1,2,3,4,4,5,6,6,4,10]\n",
    "\n",
    "lexiko = {}\n",
    "for num in numbers:\n",
    "    if num in lexiko :\n",
    "         lexiko[num] += 1\n",
    "    else:\n",
    "         lexiko[num] = 1\n",
    "print(lexiko)"
   ]
  },
  {
   "cell_type": "code",
   "execution_count": 36,
   "id": "eda3eec7-29ab-4c1e-a4f0-24e6d418daf3",
   "metadata": {},
   "outputs": [
    {
     "data": {
      "text/plain": [
       "4.5"
      ]
     },
     "execution_count": 36,
     "metadata": {},
     "output_type": "execute_result"
    }
   ],
   "source": [
    "sum = 0\n",
    "for number in numbers :\n",
    "    sum += number\n",
    "    \n",
    "average_numbers = sum / len(numbers)\n",
    "average_numbers"
   ]
  },
  {
   "cell_type": "code",
   "execution_count": 44,
   "id": "e2c25ae8-bb0f-45c6-ae65-e4bd68a95997",
   "metadata": {},
   "outputs": [
    {
     "name": "stdout",
     "output_type": "stream",
     "text": [
      "2\n",
      "3\n"
     ]
    }
   ],
   "source": [
    "lst = [1, 2, 3]\n",
    "lst2 = [2,3,4,8]\n",
    "\n",
    "for i in lst:\n",
    "    for x in lst2:\n",
    "        if i == x:\n",
    "            print(i)\n"
   ]
  },
  {
   "cell_type": "code",
   "execution_count": 52,
   "id": "bcc85153-adae-4766-908a-93642c4c4cbb",
   "metadata": {},
   "outputs": [
    {
     "name": "stdout",
     "output_type": "stream",
     "text": [
      "[4, 2, 3, 5]\n"
     ]
    }
   ],
   "source": [
    "lst = [4,2,3,4,4,4,5,5]\n",
    "lst2 = []\n",
    "for num in lst:\n",
    "    if num not in lst2 :\n",
    "        lst2.append(num)\n",
    "print (lst2)\n",
    "    \n",
    " "
   ]
  },
  {
   "cell_type": "code",
   "execution_count": 60,
   "id": "0b0d187c-64c3-4674-ba05-769452fc70ab",
   "metadata": {},
   "outputs": [
    {
     "name": "stdin",
     "output_type": "stream",
     "text": [
      "please enter a number -1\n",
      "please enter a positive number 0\n",
      "please enter a positive number 1\n"
     ]
    }
   ],
   "source": [
    "x = int(input(\"please enter a number\")) \n",
    "\n",
    "\n",
    "while x <= 0:\n",
    "   x = int(input(\"please enter a positive number\"))\n",
    "\n",
    "    "
   ]
  },
  {
   "cell_type": "code",
   "execution_count": 5,
   "id": "cacd7e45-78d7-4f82-9daa-28f66d04d946",
   "metadata": {},
   "outputs": [
    {
     "name": "stdout",
     "output_type": "stream",
     "text": [
      "10\n",
      "9\n",
      "8\n",
      "7\n",
      "6\n",
      "5\n",
      "4\n",
      "3\n",
      "2\n",
      "1\n"
     ]
    }
   ],
   "source": [
    "i = 10\n",
    "while i>0:\n",
    "    print(i)\n",
    "    i -=1"
   ]
  },
  {
   "cell_type": "code",
   "execution_count": null,
   "id": "d4855e9c-34a6-47a4-a8de-7d97e0e4fc46",
   "metadata": {},
   "outputs": [],
   "source": []
  },
  {
   "cell_type": "code",
   "execution_count": 31,
   "id": "954c45c0-c685-439e-8c17-169f463ab15f",
   "metadata": {},
   "outputs": [
    {
     "name": "stdin",
     "output_type": "stream",
     "text": [
      "please enter a number 4\n"
     ]
    },
    {
     "name": "stdout",
     "output_type": "stream",
     "text": [
      "you enter a pos number\n"
     ]
    }
   ],
   "source": [
    "i = 3\n",
    "\n",
    "while i > 0:\n",
    "    x = int(input(\"please enter a number\")) \n",
    "    if x <= 0 :\n",
    "        print('please enter a positive number')\n",
    "        i -= 1\n",
    "    else:\n",
    "        print(\"you enter a pos number\")\n",
    "        \n",
    "        break\n",
    "    print(\"you have not\")\n",
    "\n",
    "\n"
   ]
  },
  {
   "cell_type": "code",
   "execution_count": 33,
   "id": "4b976973-baf4-4137-8493-ea40a007648e",
   "metadata": {},
   "outputs": [
    {
     "name": "stdout",
     "output_type": "stream",
     "text": [
      "2\n",
      "4\n",
      "6\n",
      "8\n",
      "10\n"
     ]
    }
   ],
   "source": [
    "for i in range(1, 11):\n",
    "    if i % 2 == 0:\n",
    "        print(i)"
   ]
  },
  {
   "cell_type": "code",
   "execution_count": null,
   "id": "4e4cdc84-913a-4e84-a40b-f18ea3f79c23",
   "metadata": {},
   "outputs": [],
   "source": []
  }
 ],
 "metadata": {
  "kernelspec": {
   "display_name": "Python 3 (ipykernel)",
   "language": "python",
   "name": "python3"
  },
  "language_info": {
   "codemirror_mode": {
    "name": "ipython",
    "version": 3
   },
   "file_extension": ".py",
   "mimetype": "text/x-python",
   "name": "python",
   "nbconvert_exporter": "python",
   "pygments_lexer": "ipython3",
   "version": "3.12.7"
  }
 },
 "nbformat": 4,
 "nbformat_minor": 5
}
